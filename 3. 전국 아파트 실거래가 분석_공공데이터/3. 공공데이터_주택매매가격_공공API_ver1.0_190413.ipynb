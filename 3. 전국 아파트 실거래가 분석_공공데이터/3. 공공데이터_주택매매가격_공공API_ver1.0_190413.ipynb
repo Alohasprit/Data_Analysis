{
 "cells": [
  {
   "cell_type": "code",
   "execution_count": 1,
   "metadata": {},
   "outputs": [],
   "source": [
    "import pandas as pd\n",
    "import requests\n",
    "from bs4 import BeautifulSoup\n",
    "pd.options.display.max_rows = 999"
   ]
  },
  {
   "cell_type": "markdown",
   "metadata": {},
   "source": [
    "## 데이터 확인하기"
   ]
  },
  {
   "cell_type": "code",
   "execution_count": 2,
   "metadata": {},
   "outputs": [
    {
     "data": {
      "text/plain": [
       "'http://openapi.molit.go.kr/OpenAPI_ToolInstallPackage/service/rest/RTMSOBJSvc/getRTMSDataSvcAptTradeDev?LAWD_CD=11110&ServiceKey=z6guLe%2B1ADHJXivIOzOUKTwnkcYgHhhB0haRkPGqJzTu3tF1oebdDMG%2BoIvRnSv2eUJ6a%2FxGly%2BqbR3TKc9Skg%3D%3D&DEAL_YMD=201904'"
      ]
     },
     "execution_count": 2,
     "metadata": {},
     "output_type": "execute_result"
    }
   ],
   "source": [
    "url = 'http://openapi.molit.go.kr/OpenAPI_ToolInstallPackage/service/rest/RTMSOBJSvc/getRTMSDataSvcAptTradeDev'\n",
    "key = 'z6guLe%2B1ADHJXivIOzOUKTwnkcYgHhhB0haRkPGqJzTu3tF1oebdDMG%2BoIvRnSv2eUJ6a%2FxGly%2BqbR3TKc9Skg%3D%3D'\n",
    "queryParams = '?'+'LAWD_CD='+'11110'+'&ServiceKey='+ key+'&DEAL_YMD='+'201904'\n",
    "url = url + queryParams\n",
    "url"
   ]
  },
  {
   "cell_type": "code",
   "execution_count": 3,
   "metadata": {},
   "outputs": [],
   "source": [
    "result = requests.get(url)"
   ]
  },
  {
   "cell_type": "code",
   "execution_count": 4,
   "metadata": {},
   "outputs": [
    {
     "name": "stdout",
     "output_type": "stream",
     "text": [
      "<?xml version=\"1.0\" encoding=\"utf-8\"?>\n",
      "<response>\n",
      " <header>\n",
      "  <resultCode>\n",
      "   99\n",
      "  </resultCode>\n",
      "  <resultMsg>\n",
      "   LIMITED NUMBER OF SERVICE REQUESTS EXCEEDS ERROR.\n",
      "  </resultMsg>\n",
      " </header>\n",
      "</response>\n"
     ]
    }
   ],
   "source": [
    "bs_obj=BeautifulSoup(result.content, \"lxml-xml\")\n",
    "#파싱한 컨텐츠를 들여쓰기 하여 표현\n",
    "print(bs_obj.prettify())"
   ]
  },
  {
   "cell_type": "code",
   "execution_count": 22,
   "metadata": {},
   "outputs": [],
   "source": [
    "cols=['지역코드','법정동','년','월','일','아파트','건축년도','층','전용면적','거래금액']"
   ]
  },
  {
   "cell_type": "markdown",
   "metadata": {},
   "source": [
    "## 법정동 시군구 코드 가져오기"
   ]
  },
  {
   "cell_type": "code",
   "execution_count": 23,
   "metadata": {},
   "outputs": [],
   "source": [
    "path ='./data/법정동코드 전체자료.txt'"
   ]
  },
  {
   "cell_type": "code",
   "execution_count": 24,
   "metadata": {},
   "outputs": [
    {
     "data": {
      "text/html": [
       "<div>\n",
       "<style scoped>\n",
       "    .dataframe tbody tr th:only-of-type {\n",
       "        vertical-align: middle;\n",
       "    }\n",
       "\n",
       "    .dataframe tbody tr th {\n",
       "        vertical-align: top;\n",
       "    }\n",
       "\n",
       "    .dataframe thead th {\n",
       "        text-align: right;\n",
       "    }\n",
       "</style>\n",
       "<table border=\"1\" class=\"dataframe\">\n",
       "  <thead>\n",
       "    <tr style=\"text-align: right;\">\n",
       "      <th></th>\n",
       "      <th>법정동코드</th>\n",
       "      <th>법정동명</th>\n",
       "      <th>폐지여부</th>\n",
       "    </tr>\n",
       "  </thead>\n",
       "  <tbody>\n",
       "    <tr>\n",
       "      <th>0</th>\n",
       "      <td>1100000000</td>\n",
       "      <td>서울특별시</td>\n",
       "      <td>존재</td>\n",
       "    </tr>\n",
       "    <tr>\n",
       "      <th>1</th>\n",
       "      <td>1111000000</td>\n",
       "      <td>서울특별시 종로구</td>\n",
       "      <td>존재</td>\n",
       "    </tr>\n",
       "    <tr>\n",
       "      <th>2</th>\n",
       "      <td>1111010100</td>\n",
       "      <td>서울특별시 종로구 청운동</td>\n",
       "      <td>존재</td>\n",
       "    </tr>\n",
       "    <tr>\n",
       "      <th>3</th>\n",
       "      <td>1111010200</td>\n",
       "      <td>서울특별시 종로구 신교동</td>\n",
       "      <td>존재</td>\n",
       "    </tr>\n",
       "    <tr>\n",
       "      <th>4</th>\n",
       "      <td>1111010300</td>\n",
       "      <td>서울특별시 종로구 궁정동</td>\n",
       "      <td>존재</td>\n",
       "    </tr>\n",
       "  </tbody>\n",
       "</table>\n",
       "</div>"
      ],
      "text/plain": [
       "        법정동코드           법정동명 폐지여부\n",
       "0  1100000000          서울특별시   존재\n",
       "1  1111000000      서울특별시 종로구   존재\n",
       "2  1111010100  서울특별시 종로구 청운동   존재\n",
       "3  1111010200  서울특별시 종로구 신교동   존재\n",
       "4  1111010300  서울특별시 종로구 궁정동   존재"
      ]
     },
     "execution_count": 24,
     "metadata": {},
     "output_type": "execute_result"
    }
   ],
   "source": [
    "LAWD_CD = pd.read_csv(path, delimiter='\\t', encoding='euc-kr')\n",
    "LAWD_CD.head()"
   ]
  },
  {
   "cell_type": "code",
   "execution_count": 25,
   "metadata": {},
   "outputs": [
    {
     "data": {
      "text/html": [
       "<div>\n",
       "<style scoped>\n",
       "    .dataframe tbody tr th:only-of-type {\n",
       "        vertical-align: middle;\n",
       "    }\n",
       "\n",
       "    .dataframe tbody tr th {\n",
       "        vertical-align: top;\n",
       "    }\n",
       "\n",
       "    .dataframe thead th {\n",
       "        text-align: right;\n",
       "    }\n",
       "</style>\n",
       "<table border=\"1\" class=\"dataframe\">\n",
       "  <thead>\n",
       "    <tr style=\"text-align: right;\">\n",
       "      <th></th>\n",
       "      <th>법정동코드</th>\n",
       "      <th>법정동명</th>\n",
       "      <th>폐지여부</th>\n",
       "      <th>법정동시군구코드</th>\n",
       "      <th>시군구</th>\n",
       "    </tr>\n",
       "  </thead>\n",
       "  <tbody>\n",
       "    <tr>\n",
       "      <th>0</th>\n",
       "      <td>1100000000</td>\n",
       "      <td>서울특별시</td>\n",
       "      <td>존재</td>\n",
       "      <td>11000</td>\n",
       "      <td>[서울특별시]</td>\n",
       "    </tr>\n",
       "    <tr>\n",
       "      <th>1</th>\n",
       "      <td>1111000000</td>\n",
       "      <td>서울특별시 종로구</td>\n",
       "      <td>존재</td>\n",
       "      <td>11110</td>\n",
       "      <td>[서울특별시, 종로구]</td>\n",
       "    </tr>\n",
       "    <tr>\n",
       "      <th>2</th>\n",
       "      <td>1111010100</td>\n",
       "      <td>서울특별시 종로구 청운동</td>\n",
       "      <td>존재</td>\n",
       "      <td>11110</td>\n",
       "      <td>[서울특별시, 종로구]</td>\n",
       "    </tr>\n",
       "    <tr>\n",
       "      <th>3</th>\n",
       "      <td>1111010200</td>\n",
       "      <td>서울특별시 종로구 신교동</td>\n",
       "      <td>존재</td>\n",
       "      <td>11110</td>\n",
       "      <td>[서울특별시, 종로구]</td>\n",
       "    </tr>\n",
       "    <tr>\n",
       "      <th>4</th>\n",
       "      <td>1111010300</td>\n",
       "      <td>서울특별시 종로구 궁정동</td>\n",
       "      <td>존재</td>\n",
       "      <td>11110</td>\n",
       "      <td>[서울특별시, 종로구]</td>\n",
       "    </tr>\n",
       "  </tbody>\n",
       "</table>\n",
       "</div>"
      ],
      "text/plain": [
       "        법정동코드           법정동명 폐지여부 법정동시군구코드           시군구\n",
       "0  1100000000          서울특별시   존재    11000       [서울특별시]\n",
       "1  1111000000      서울특별시 종로구   존재    11110  [서울특별시, 종로구]\n",
       "2  1111010100  서울특별시 종로구 청운동   존재    11110  [서울특별시, 종로구]\n",
       "3  1111010200  서울특별시 종로구 신교동   존재    11110  [서울특별시, 종로구]\n",
       "4  1111010300  서울특별시 종로구 궁정동   존재    11110  [서울특별시, 종로구]"
      ]
     },
     "execution_count": 25,
     "metadata": {},
     "output_type": "execute_result"
    }
   ],
   "source": [
    "LAWD_CD['법정동시군구코드']=LAWD_CD['법정동코드'].apply(lambda x: str(x)[:5])\n",
    "LAWD_CD['시군구']=LAWD_CD['법정동명'].apply(lambda x: x.split(' ')[:2])\n",
    "LAWD_CD.head()"
   ]
  },
  {
   "cell_type": "code",
   "execution_count": 26,
   "metadata": {},
   "outputs": [
    {
     "name": "stdout",
     "output_type": "stream",
     "text": [
      "(25,)\n"
     ]
    },
    {
     "data": {
      "text/plain": [
       "array(['11110', '11140', '11170', '11200', '11215', '11230', '11260',\n",
       "       '11290', '11305', '11320', '11350', '11380', '11410', '11440',\n",
       "       '11470', '11500', '11530', '11545', '11560', '11590', '11620',\n",
       "       '11650', '11680', '11710', '11740'], dtype=object)"
      ]
     },
     "execution_count": 26,
     "metadata": {},
     "output_type": "execute_result"
    }
   ],
   "source": [
    "LAWD_CD_SEOUL=LAWD_CD.loc[LAWD_CD['법정동명'].str.contains('서울특별시')]\n",
    "LAWD_CODE_SEOUL=LAWD_CD_SEOUL['법정동시군구코드'].unique()[1:]\n",
    "print(LAWD_CODE_SEOUL.shape)\n",
    "LAWD_CODE_SEOUL"
   ]
  },
  {
   "cell_type": "markdown",
   "metadata": {},
   "source": [
    "### 월별 실거래가 모듈"
   ]
  },
  {
   "cell_type": "code",
   "execution_count": 8,
   "metadata": {},
   "outputs": [
    {
     "name": "stdout",
     "output_type": "stream",
     "text": [
      "(0, 10)\n"
     ]
    }
   ],
   "source": [
    "df_month = pd.DataFrame(columns=cols)\n",
    "for month in list(range(1,13)):\n",
    "    if month < 10:\n",
    "        month = '0'+ str(month)\n",
    "    else:\n",
    "        month = str(month)\n",
    "    \n",
    "    url = 'http://openapi.molit.go.kr/OpenAPI_ToolInstallPackage/service/rest/RTMSOBJSvc/getRTMSDataSvcAptTradeDev'\n",
    "    key = 'z6guLe%2B1ADHJXivIOzOUKTwnkcYgHhhB0haRkPGqJzTu3tF1oebdDMG%2BoIvRnSv2eUJ6a%2FxGly%2BqbR3TKc9Skg'\n",
    "    queryParams = '?'+'LAWD_CD='+'11110'+'&ServiceKey='+ key+'&DEAL_YMD='+'2018'+ month\n",
    "    url = url + queryParams\n",
    "    \n",
    "    result = requests.get(url)\n",
    "    bs_obj=BeautifulSoup(result.content, \"lxml-xml\")\n",
    "    items = bs_obj.findAll('item')\n",
    "    \n",
    "\n",
    "    for i, item in enumerate(items):\n",
    "        df = pd.DataFrame(columns=cols)\n",
    "        df.loc[i, \"거래금액\"] = item.find(\"거래금액\").text\n",
    "        df.loc[i, \"건축년도\"] = item.find(\"건축년도\").text\n",
    "        df.loc[i, \"아파트\"] = item.find(\"아파트\").text\n",
    "        df.loc[i, \"법정동\"] = item.find(\"법정동\").text\n",
    "        df.loc[i, \"년\"] = item.find(\"년\").text\n",
    "        df.loc[i, \"월\"] = item.find(\"월\").text\n",
    "        df.loc[i, \"일\"] = item.find(\"일\").text\n",
    "        df.loc[i, \"전용면적\"] = item.find(\"전용면적\").text\n",
    "        df.loc[i, \"지역코드\"] = item.find(\"지역코드\").text\n",
    "        df.loc[i, \"층\"] = item.find(\"층\").text\n",
    "        \n",
    "        df_month = pd.concat([df_month, df], axis=0)\n",
    "\n",
    "print(df_month.shape)\n"
   ]
  },
  {
   "cell_type": "code",
   "execution_count": 9,
   "metadata": {},
   "outputs": [
    {
     "data": {
      "text/html": [
       "<div>\n",
       "<style scoped>\n",
       "    .dataframe tbody tr th:only-of-type {\n",
       "        vertical-align: middle;\n",
       "    }\n",
       "\n",
       "    .dataframe tbody tr th {\n",
       "        vertical-align: top;\n",
       "    }\n",
       "\n",
       "    .dataframe thead th {\n",
       "        text-align: right;\n",
       "    }\n",
       "</style>\n",
       "<table border=\"1\" class=\"dataframe\">\n",
       "  <thead>\n",
       "    <tr style=\"text-align: right;\">\n",
       "      <th></th>\n",
       "      <th>지역코드</th>\n",
       "      <th>법정동</th>\n",
       "      <th>년</th>\n",
       "      <th>월</th>\n",
       "      <th>일</th>\n",
       "      <th>아파트</th>\n",
       "      <th>건축년도</th>\n",
       "      <th>층</th>\n",
       "      <th>전용면적</th>\n",
       "      <th>거래금액</th>\n",
       "    </tr>\n",
       "  </thead>\n",
       "  <tbody>\n",
       "  </tbody>\n",
       "</table>\n",
       "</div>"
      ],
      "text/plain": [
       "Empty DataFrame\n",
       "Columns: [지역코드, 법정동, 년, 월, 일, 아파트, 건축년도, 층, 전용면적, 거래금액]\n",
       "Index: []"
      ]
     },
     "execution_count": 9,
     "metadata": {},
     "output_type": "execute_result"
    }
   ],
   "source": [
    "df_month.head()"
   ]
  },
  {
   "cell_type": "markdown",
   "metadata": {},
   "source": [
    "### 연도별 모듈"
   ]
  },
  {
   "cell_type": "code",
   "execution_count": 44,
   "metadata": {},
   "outputs": [],
   "source": [
    "y1=2014\n",
    "y2=2018"
   ]
  },
  {
   "cell_type": "code",
   "execution_count": null,
   "metadata": {},
   "outputs": [],
   "source": [
    "df_all = pd.DataFrame(columns=cols)\n",
    "for year in list(range(y1,y2)):\n",
    "    year=str(year)\n",
    "    for month in list(range(1,13)):\n",
    "        if month < 10:\n",
    "            month = '0'+ str(month)\n",
    "        else:\n",
    "            month = str(month)\n",
    "\n",
    "        url = 'http://openapi.molit.go.kr/OpenAPI_ToolInstallPackage/service/rest/RTMSOBJSvc/getRTMSDataSvcAptTradeDev'\n",
    "        key = 'z6guLe%2B1ADHJXivIOzOUKTwnkcYgHhhB0haRkPGqJzTu3tF1oebdDMG%2BoIvRnSv2eUJ6a%2FxGly%2BqbR3TKc9Skg'\n",
    "        queryParams = '?'+'LAWD_CD='+'11110'+'&ServiceKey='+ key+'&DEAL_YMD='+year+ month\n",
    "        url = url + queryParams\n",
    "\n",
    "        result = requests.get(url)\n",
    "        bs_obj=BeautifulSoup(result.content, \"lxml-xml\")\n",
    "        items = bs_obj.findAll('item')\n",
    "\n",
    "\n",
    "        for i, item in enumerate(items):\n",
    "            df = pd.DataFrame(columns=cols)\n",
    "            df.loc[i, \"거래금액\"] = item.find(\"거래금액\").text\n",
    "            df.loc[i, \"건축년도\"] = item.find(\"건축년도\").text\n",
    "            df.loc[i, \"아파트\"] = item.find(\"아파트\").text\n",
    "            df.loc[i, \"년\"] = item.find(\"년\").text\n",
    "            df.loc[i, \"월\"] = item.find(\"월\").text\n",
    "            df.loc[i, \"일\"] = item.find(\"일\").text\n",
    "            df.loc[i, \"전용면적\"] = item.find(\"전용면적\").text\n",
    "            df.loc[i, \"지역코드\"] = item.find(\"지역코드\").text\n",
    "            df.loc[i, \"층\"] = item.find(\"층\").text\n",
    "            df.loc[i, \"법정동\"] = item.find(\"법정동\").text\n",
    "\n",
    "\n",
    "            df_all = pd.concat([df_all, df], axis=0)\n",
    "\n",
    "print(df_all.shape)"
   ]
  },
  {
   "cell_type": "code",
   "execution_count": null,
   "metadata": {},
   "outputs": [],
   "source": [
    "df_all.head()"
   ]
  },
  {
   "cell_type": "markdown",
   "metadata": {},
   "source": [
    "### 지역코드(법정동시군구코드) 모듈"
   ]
  },
  {
   "cell_type": "code",
   "execution_count": 45,
   "metadata": {},
   "outputs": [
    {
     "name": "stdout",
     "output_type": "stream",
     "text": [
      "(0, 10)\n"
     ]
    }
   ],
   "source": [
    "df_all = pd.DataFrame(columns=cols)\n",
    "    \n",
    "for LAWD_CD_seoul in LAWD_CODE_SEOUL:\n",
    "    LAWD_CD_seoul=str(LAWD_CD_seoul)\n",
    "    \n",
    "    for year in list(range(y1,y2)):\n",
    "        year=str(year)\n",
    "        \n",
    "        for month in list(range(1,13)):\n",
    "            if month < 10:\n",
    "                month = '0'+ str(month)\n",
    "            else:\n",
    "                month = str(month)\n",
    "\n",
    "            url = 'http://openapi.molit.go.kr/OpenAPI_ToolInstallPackage/service/rest/RTMSOBJSvc/getRTMSDataSvcAptTradeDev'\n",
    "            key = 'z6guLe%2B1ADHJXivIOzOUKTwnkcYgHhhB0haRkPGqJzTu3tF1oebdDMG%2BoIvRnSv2eUJ6a%2FxGly%2BqbR3TKc9Skg%3D%3D'\n",
    "            queryParams = '?' + 'LAWD_CD=' + LAWD_CD_seoul + '&ServiceKey='+ key + '&DEAL_YMD=' + year + month\n",
    "            url = url + queryParams\n",
    "\n",
    "            result = requests.get(url)\n",
    "            bs_obj=BeautifulSoup(result.content, \"lxml-xml\")\n",
    "            items = bs_obj.findAll('item')\n",
    "\n",
    "\n",
    "            for i, item in enumerate(items):\n",
    "                df = pd.DataFrame(columns=cols)\n",
    "                df.loc[i, \"거래금액\"] = item.find(\"거래금액\").text\n",
    "                df.loc[i, \"건축년도\"] = item.find(\"건축년도\").text\n",
    "                df.loc[i, \"아파트\"] = item.find(\"아파트\").text\n",
    "                df.loc[i, \"년\"] = item.find(\"년\").text\n",
    "                df.loc[i, \"월\"] = item.find(\"월\").text\n",
    "                df.loc[i, \"일\"] = item.find(\"일\").text\n",
    "                df.loc[i, \"전용면적\"] = item.find(\"전용면적\").text\n",
    "                df.loc[i, \"지역코드\"] = item.find(\"지역코드\").text\n",
    "                df.loc[i, \"층\"] = item.find(\"층\").text\n",
    "                df.loc[i, \"법정동\"] = item.find(\"법정동\").text\n",
    "\n",
    "\n",
    "                df_all = pd.concat([df_all, df], axis=0)\n",
    "\n",
    "print(df_all.shape)"
   ]
  },
  {
   "cell_type": "code",
   "execution_count": 46,
   "metadata": {},
   "outputs": [
    {
     "data": {
      "text/html": [
       "<div>\n",
       "<style scoped>\n",
       "    .dataframe tbody tr th:only-of-type {\n",
       "        vertical-align: middle;\n",
       "    }\n",
       "\n",
       "    .dataframe tbody tr th {\n",
       "        vertical-align: top;\n",
       "    }\n",
       "\n",
       "    .dataframe thead th {\n",
       "        text-align: right;\n",
       "    }\n",
       "</style>\n",
       "<table border=\"1\" class=\"dataframe\">\n",
       "  <thead>\n",
       "    <tr style=\"text-align: right;\">\n",
       "      <th></th>\n",
       "      <th>지역코드</th>\n",
       "      <th>법정동</th>\n",
       "      <th>년</th>\n",
       "      <th>월</th>\n",
       "      <th>일</th>\n",
       "      <th>아파트</th>\n",
       "      <th>건축년도</th>\n",
       "      <th>층</th>\n",
       "      <th>전용면적</th>\n",
       "      <th>거래금액</th>\n",
       "    </tr>\n",
       "  </thead>\n",
       "  <tbody>\n",
       "  </tbody>\n",
       "</table>\n",
       "</div>"
      ],
      "text/plain": [
       "Empty DataFrame\n",
       "Columns: [지역코드, 법정동, 년, 월, 일, 아파트, 건축년도, 층, 전용면적, 거래금액]\n",
       "Index: []"
      ]
     },
     "execution_count": 46,
     "metadata": {},
     "output_type": "execute_result"
    }
   ],
   "source": [
    "df_all.head()"
   ]
  },
  {
   "cell_type": "code",
   "execution_count": 50,
   "metadata": {},
   "outputs": [],
   "source": [
    "df_all.to_csv('./data/서울시_아파트_실거래가_{}~{}.csv'.format(y1, y2))"
   ]
  },
  {
   "cell_type": "code",
   "execution_count": null,
   "metadata": {},
   "outputs": [],
   "source": []
  },
  {
   "cell_type": "code",
   "execution_count": null,
   "metadata": {},
   "outputs": [],
   "source": []
  },
  {
   "cell_type": "code",
   "execution_count": null,
   "metadata": {},
   "outputs": [],
   "source": []
  }
 ],
 "metadata": {
  "kernelspec": {
   "display_name": "Python 3",
   "language": "python",
   "name": "python3"
  },
  "language_info": {
   "codemirror_mode": {
    "name": "ipython",
    "version": 3
   },
   "file_extension": ".py",
   "mimetype": "text/x-python",
   "name": "python",
   "nbconvert_exporter": "python",
   "pygments_lexer": "ipython3",
   "version": "3.7.2"
  }
 },
 "nbformat": 4,
 "nbformat_minor": 2
}
